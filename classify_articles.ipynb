{
 "cells": [
  {
   "cell_type": "code",
   "execution_count": 50,
   "id": "a2542ee9-863a-4e0f-967c-7c6e25c009cc",
   "metadata": {},
   "outputs": [],
   "source": [
    "from sklearn.decomposition import PCA\n",
    "from sklearn.utils import shuffle"
   ]
  },
  {
   "cell_type": "code",
   "execution_count": 51,
   "id": "77608391-bd38-458d-bfbf-2d54338f4756",
   "metadata": {},
   "outputs": [],
   "source": [
    "import pandas as pd"
   ]
  },
  {
   "cell_type": "code",
   "execution_count": 52,
   "id": "ff82b02b",
   "metadata": {},
   "outputs": [],
   "source": [
    "import numpy as np"
   ]
  },
  {
   "cell_type": "code",
   "execution_count": 53,
   "id": "1a7691f0",
   "metadata": {},
   "outputs": [],
   "source": [
    "import tensorflow as tf\n",
    "from tensorflow.keras import layers\n",
    "from tensorflow.keras.optimizers import Adam"
   ]
  },
  {
   "cell_type": "code",
   "execution_count": 54,
   "id": "d93eefab",
   "metadata": {},
   "outputs": [
    {
     "name": "stderr",
     "output_type": "stream",
     "text": [
      "/Users/bensmus/Desktop/Projects/AG_news_classify/myenv/lib/python3.12/site-packages/huggingface_hub/file_download.py:1132: FutureWarning: `resume_download` is deprecated and will be removed in version 1.0.0. Downloads always resume when possible. If you want to force a new download, use `force_download=True`.\n",
      "  warnings.warn(\n"
     ]
    },
    {
     "name": "stdout",
     "output_type": "stream",
     "text": [
      "Model is loaded on: mps:0\n"
     ]
    }
   ],
   "source": [
    "import torch\n",
    "from sentence_transformers import SentenceTransformer\n",
    "if torch.backends.mps.is_available():\n",
    "    device = torch.device('mps')\n",
    "else:\n",
    "    device = torch.device('cpu')\n",
    "model = SentenceTransformer('all-MiniLM-L6-v2', device=device)\n",
    "print(\"Model is loaded on:\", model.device)"
   ]
  },
  {
   "cell_type": "code",
   "execution_count": 55,
   "id": "961154dc-0805-4be0-8bf6-033accc76e67",
   "metadata": {},
   "outputs": [],
   "source": [
    "filename = 'AG_news_dataset/train.csv'\n",
    "df = pd.read_csv(filename)\n",
    "descriptions = np.array(df['Description'])\n",
    "categories = np.array(df['Class Index'] - 1) # This -1 is CRUCIAL because classes must be 0...N-1 where N is number of classes.\n",
    "descriptions, categories = shuffle(descriptions, categories, random_state=0)\n"
   ]
  },
  {
   "cell_type": "code",
   "execution_count": 56,
   "id": "e9cb62b9-2f9b-4de3-9f9c-cda9f7db6cd6",
   "metadata": {},
   "outputs": [],
   "source": [
    "embeddings = model.encode(descriptions)"
   ]
  },
  {
   "cell_type": "code",
   "execution_count": 8,
   "id": "406729c2",
   "metadata": {},
   "outputs": [],
   "source": [
    "# pca = PCA(n_components=50)\n",
    "# embeddings = pca.fit_transform(embeddings)"
   ]
  },
  {
   "cell_type": "code",
   "execution_count": 57,
   "id": "645b9046",
   "metadata": {},
   "outputs": [],
   "source": [
    "from sklearn.model_selection import train_test_split\n",
    "X_train, X_val, y_train, y_val = train_test_split(embeddings, categories, test_size=0.2, random_state=42)"
   ]
  },
  {
   "cell_type": "code",
   "execution_count": 181,
   "id": "46400ddb",
   "metadata": {},
   "outputs": [
    {
     "data": {
      "text/html": [
       "<pre style=\"white-space:pre;overflow-x:auto;line-height:normal;font-family:Menlo,'DejaVu Sans Mono',consolas,'Courier New',monospace\"><span style=\"font-weight: bold\">Model: \"functional_67\"</span>\n",
       "</pre>\n"
      ],
      "text/plain": [
       "\u001b[1mModel: \"functional_67\"\u001b[0m\n"
      ]
     },
     "metadata": {},
     "output_type": "display_data"
    },
    {
     "data": {
      "text/html": [
       "<pre style=\"white-space:pre;overflow-x:auto;line-height:normal;font-family:Menlo,'DejaVu Sans Mono',consolas,'Courier New',monospace\">┏━━━━━━━━━━━━━━━━━━━━━━━━━━━━━━━━━┳━━━━━━━━━━━━━━━━━━━━━━━━┳━━━━━━━━━━━━━━━┓\n",
       "┃<span style=\"font-weight: bold\"> Layer (type)                    </span>┃<span style=\"font-weight: bold\"> Output Shape           </span>┃<span style=\"font-weight: bold\">       Param # </span>┃\n",
       "┡━━━━━━━━━━━━━━━━━━━━━━━━━━━━━━━━━╇━━━━━━━━━━━━━━━━━━━━━━━━╇━━━━━━━━━━━━━━━┩\n",
       "│ input_layer_33 (<span style=\"color: #0087ff; text-decoration-color: #0087ff\">InputLayer</span>)     │ (<span style=\"color: #00d7ff; text-decoration-color: #00d7ff\">None</span>, <span style=\"color: #00af00; text-decoration-color: #00af00\">384</span>)            │             <span style=\"color: #00af00; text-decoration-color: #00af00\">0</span> │\n",
       "├─────────────────────────────────┼────────────────────────┼───────────────┤\n",
       "│ dense_116 (<span style=\"color: #0087ff; text-decoration-color: #0087ff\">Dense</span>)               │ (<span style=\"color: #00d7ff; text-decoration-color: #00d7ff\">None</span>, <span style=\"color: #00af00; text-decoration-color: #00af00\">200</span>)            │        <span style=\"color: #00af00; text-decoration-color: #00af00\">77,000</span> │\n",
       "├─────────────────────────────────┼────────────────────────┼───────────────┤\n",
       "│ dropout_36 (<span style=\"color: #0087ff; text-decoration-color: #0087ff\">Dropout</span>)            │ (<span style=\"color: #00d7ff; text-decoration-color: #00d7ff\">None</span>, <span style=\"color: #00af00; text-decoration-color: #00af00\">200</span>)            │             <span style=\"color: #00af00; text-decoration-color: #00af00\">0</span> │\n",
       "├─────────────────────────────────┼────────────────────────┼───────────────┤\n",
       "│ dense_117 (<span style=\"color: #0087ff; text-decoration-color: #0087ff\">Dense</span>)               │ (<span style=\"color: #00d7ff; text-decoration-color: #00d7ff\">None</span>, <span style=\"color: #00af00; text-decoration-color: #00af00\">160</span>)            │        <span style=\"color: #00af00; text-decoration-color: #00af00\">32,160</span> │\n",
       "├─────────────────────────────────┼────────────────────────┼───────────────┤\n",
       "│ dropout_37 (<span style=\"color: #0087ff; text-decoration-color: #0087ff\">Dropout</span>)            │ (<span style=\"color: #00d7ff; text-decoration-color: #00d7ff\">None</span>, <span style=\"color: #00af00; text-decoration-color: #00af00\">160</span>)            │             <span style=\"color: #00af00; text-decoration-color: #00af00\">0</span> │\n",
       "├─────────────────────────────────┼────────────────────────┼───────────────┤\n",
       "│ dense_118 (<span style=\"color: #0087ff; text-decoration-color: #0087ff\">Dense</span>)               │ (<span style=\"color: #00d7ff; text-decoration-color: #00d7ff\">None</span>, <span style=\"color: #00af00; text-decoration-color: #00af00\">120</span>)            │        <span style=\"color: #00af00; text-decoration-color: #00af00\">19,320</span> │\n",
       "├─────────────────────────────────┼────────────────────────┼───────────────┤\n",
       "│ dropout_38 (<span style=\"color: #0087ff; text-decoration-color: #0087ff\">Dropout</span>)            │ (<span style=\"color: #00d7ff; text-decoration-color: #00d7ff\">None</span>, <span style=\"color: #00af00; text-decoration-color: #00af00\">120</span>)            │             <span style=\"color: #00af00; text-decoration-color: #00af00\">0</span> │\n",
       "├─────────────────────────────────┼────────────────────────┼───────────────┤\n",
       "│ dense_119 (<span style=\"color: #0087ff; text-decoration-color: #0087ff\">Dense</span>)               │ (<span style=\"color: #00d7ff; text-decoration-color: #00d7ff\">None</span>, <span style=\"color: #00af00; text-decoration-color: #00af00\">80</span>)             │         <span style=\"color: #00af00; text-decoration-color: #00af00\">9,680</span> │\n",
       "├─────────────────────────────────┼────────────────────────┼───────────────┤\n",
       "│ dropout_39 (<span style=\"color: #0087ff; text-decoration-color: #0087ff\">Dropout</span>)            │ (<span style=\"color: #00d7ff; text-decoration-color: #00d7ff\">None</span>, <span style=\"color: #00af00; text-decoration-color: #00af00\">80</span>)             │             <span style=\"color: #00af00; text-decoration-color: #00af00\">0</span> │\n",
       "├─────────────────────────────────┼────────────────────────┼───────────────┤\n",
       "│ dense_120 (<span style=\"color: #0087ff; text-decoration-color: #0087ff\">Dense</span>)               │ (<span style=\"color: #00d7ff; text-decoration-color: #00d7ff\">None</span>, <span style=\"color: #00af00; text-decoration-color: #00af00\">4</span>)              │           <span style=\"color: #00af00; text-decoration-color: #00af00\">324</span> │\n",
       "└─────────────────────────────────┴────────────────────────┴───────────────┘\n",
       "</pre>\n"
      ],
      "text/plain": [
       "┏━━━━━━━━━━━━━━━━━━━━━━━━━━━━━━━━━┳━━━━━━━━━━━━━━━━━━━━━━━━┳━━━━━━━━━━━━━━━┓\n",
       "┃\u001b[1m \u001b[0m\u001b[1mLayer (type)                   \u001b[0m\u001b[1m \u001b[0m┃\u001b[1m \u001b[0m\u001b[1mOutput Shape          \u001b[0m\u001b[1m \u001b[0m┃\u001b[1m \u001b[0m\u001b[1m      Param #\u001b[0m\u001b[1m \u001b[0m┃\n",
       "┡━━━━━━━━━━━━━━━━━━━━━━━━━━━━━━━━━╇━━━━━━━━━━━━━━━━━━━━━━━━╇━━━━━━━━━━━━━━━┩\n",
       "│ input_layer_33 (\u001b[38;5;33mInputLayer\u001b[0m)     │ (\u001b[38;5;45mNone\u001b[0m, \u001b[38;5;34m384\u001b[0m)            │             \u001b[38;5;34m0\u001b[0m │\n",
       "├─────────────────────────────────┼────────────────────────┼───────────────┤\n",
       "│ dense_116 (\u001b[38;5;33mDense\u001b[0m)               │ (\u001b[38;5;45mNone\u001b[0m, \u001b[38;5;34m200\u001b[0m)            │        \u001b[38;5;34m77,000\u001b[0m │\n",
       "├─────────────────────────────────┼────────────────────────┼───────────────┤\n",
       "│ dropout_36 (\u001b[38;5;33mDropout\u001b[0m)            │ (\u001b[38;5;45mNone\u001b[0m, \u001b[38;5;34m200\u001b[0m)            │             \u001b[38;5;34m0\u001b[0m │\n",
       "├─────────────────────────────────┼────────────────────────┼───────────────┤\n",
       "│ dense_117 (\u001b[38;5;33mDense\u001b[0m)               │ (\u001b[38;5;45mNone\u001b[0m, \u001b[38;5;34m160\u001b[0m)            │        \u001b[38;5;34m32,160\u001b[0m │\n",
       "├─────────────────────────────────┼────────────────────────┼───────────────┤\n",
       "│ dropout_37 (\u001b[38;5;33mDropout\u001b[0m)            │ (\u001b[38;5;45mNone\u001b[0m, \u001b[38;5;34m160\u001b[0m)            │             \u001b[38;5;34m0\u001b[0m │\n",
       "├─────────────────────────────────┼────────────────────────┼───────────────┤\n",
       "│ dense_118 (\u001b[38;5;33mDense\u001b[0m)               │ (\u001b[38;5;45mNone\u001b[0m, \u001b[38;5;34m120\u001b[0m)            │        \u001b[38;5;34m19,320\u001b[0m │\n",
       "├─────────────────────────────────┼────────────────────────┼───────────────┤\n",
       "│ dropout_38 (\u001b[38;5;33mDropout\u001b[0m)            │ (\u001b[38;5;45mNone\u001b[0m, \u001b[38;5;34m120\u001b[0m)            │             \u001b[38;5;34m0\u001b[0m │\n",
       "├─────────────────────────────────┼────────────────────────┼───────────────┤\n",
       "│ dense_119 (\u001b[38;5;33mDense\u001b[0m)               │ (\u001b[38;5;45mNone\u001b[0m, \u001b[38;5;34m80\u001b[0m)             │         \u001b[38;5;34m9,680\u001b[0m │\n",
       "├─────────────────────────────────┼────────────────────────┼───────────────┤\n",
       "│ dropout_39 (\u001b[38;5;33mDropout\u001b[0m)            │ (\u001b[38;5;45mNone\u001b[0m, \u001b[38;5;34m80\u001b[0m)             │             \u001b[38;5;34m0\u001b[0m │\n",
       "├─────────────────────────────────┼────────────────────────┼───────────────┤\n",
       "│ dense_120 (\u001b[38;5;33mDense\u001b[0m)               │ (\u001b[38;5;45mNone\u001b[0m, \u001b[38;5;34m4\u001b[0m)              │           \u001b[38;5;34m324\u001b[0m │\n",
       "└─────────────────────────────────┴────────────────────────┴───────────────┘\n"
      ]
     },
     "metadata": {},
     "output_type": "display_data"
    },
    {
     "data": {
      "text/html": [
       "<pre style=\"white-space:pre;overflow-x:auto;line-height:normal;font-family:Menlo,'DejaVu Sans Mono',consolas,'Courier New',monospace\"><span style=\"font-weight: bold\"> Total params: </span><span style=\"color: #00af00; text-decoration-color: #00af00\">138,484</span> (540.95 KB)\n",
       "</pre>\n"
      ],
      "text/plain": [
       "\u001b[1m Total params: \u001b[0m\u001b[38;5;34m138,484\u001b[0m (540.95 KB)\n"
      ]
     },
     "metadata": {},
     "output_type": "display_data"
    },
    {
     "data": {
      "text/html": [
       "<pre style=\"white-space:pre;overflow-x:auto;line-height:normal;font-family:Menlo,'DejaVu Sans Mono',consolas,'Courier New',monospace\"><span style=\"font-weight: bold\"> Trainable params: </span><span style=\"color: #00af00; text-decoration-color: #00af00\">138,484</span> (540.95 KB)\n",
       "</pre>\n"
      ],
      "text/plain": [
       "\u001b[1m Trainable params: \u001b[0m\u001b[38;5;34m138,484\u001b[0m (540.95 KB)\n"
      ]
     },
     "metadata": {},
     "output_type": "display_data"
    },
    {
     "data": {
      "text/html": [
       "<pre style=\"white-space:pre;overflow-x:auto;line-height:normal;font-family:Menlo,'DejaVu Sans Mono',consolas,'Courier New',monospace\"><span style=\"font-weight: bold\"> Non-trainable params: </span><span style=\"color: #00af00; text-decoration-color: #00af00\">0</span> (0.00 B)\n",
       "</pre>\n"
      ],
      "text/plain": [
       "\u001b[1m Non-trainable params: \u001b[0m\u001b[38;5;34m0\u001b[0m (0.00 B)\n"
      ]
     },
     "metadata": {},
     "output_type": "display_data"
    }
   ],
   "source": [
    "inputs = tf.keras.Input(shape=(384,))\n",
    "x = layers.Dense(200, activation='relu')(inputs)\n",
    "x = layers.Dropout(0.5)(x)\n",
    "x = layers.Dense(160, activation='relu')(x)\n",
    "x = layers.Dropout(0.5)(x)\n",
    "x = layers.Dense(120, activation='relu')(x)\n",
    "x = layers.Dropout(0.5)(x)\n",
    "x = layers.Dense(80, activation='relu')(x)\n",
    "x = layers.Dropout(0.5)(x)\n",
    "outputs = layers.Dense(4, activation='softmax')(x)\n",
    "model = tf.keras.Model(inputs=inputs, outputs=outputs)\n",
    "model.summary()"
   ]
  },
  {
   "cell_type": "code",
   "execution_count": 182,
   "id": "651ac0fe",
   "metadata": {},
   "outputs": [],
   "source": [
    "model.compile(optimizer=Adam(1e-4), loss='sparse_categorical_crossentropy', metrics=['accuracy'])"
   ]
  },
  {
   "cell_type": "code",
   "execution_count": 183,
   "id": "69af8f64",
   "metadata": {},
   "outputs": [
    {
     "name": "stdout",
     "output_type": "stream",
     "text": [
      "Epoch 1/100\n",
      "\u001b[1m2743/2743\u001b[0m \u001b[32m━━━━━━━━━━━━━━━━━━━━\u001b[0m\u001b[37m\u001b[0m \u001b[1m5s\u001b[0m 2ms/step - accuracy: 0.5186 - loss: 1.0454 - val_accuracy: 0.8850 - val_loss: 0.3475\n",
      "Epoch 2/100\n",
      "\u001b[1m2743/2743\u001b[0m \u001b[32m━━━━━━━━━━━━━━━━━━━━\u001b[0m\u001b[37m\u001b[0m \u001b[1m4s\u001b[0m 1ms/step - accuracy: 0.8686 - loss: 0.4359 - val_accuracy: 0.8911 - val_loss: 0.3294\n",
      "Epoch 3/100\n",
      "\u001b[1m2743/2743\u001b[0m \u001b[32m━━━━━━━━━━━━━━━━━━━━\u001b[0m\u001b[37m\u001b[0m \u001b[1m4s\u001b[0m 1ms/step - accuracy: 0.8828 - loss: 0.3853 - val_accuracy: 0.8939 - val_loss: 0.3161\n",
      "Epoch 4/100\n",
      "\u001b[1m2743/2743\u001b[0m \u001b[32m━━━━━━━━━━━━━━━━━━━━\u001b[0m\u001b[37m\u001b[0m \u001b[1m4s\u001b[0m 1ms/step - accuracy: 0.8841 - loss: 0.3784 - val_accuracy: 0.8959 - val_loss: 0.3067\n",
      "Epoch 5/100\n",
      "\u001b[1m2743/2743\u001b[0m \u001b[32m━━━━━━━━━━━━━━━━━━━━\u001b[0m\u001b[37m\u001b[0m \u001b[1m4s\u001b[0m 1ms/step - accuracy: 0.8868 - loss: 0.3618 - val_accuracy: 0.8988 - val_loss: 0.3002\n",
      "Epoch 6/100\n",
      "\u001b[1m2743/2743\u001b[0m \u001b[32m━━━━━━━━━━━━━━━━━━━━\u001b[0m\u001b[37m\u001b[0m \u001b[1m4s\u001b[0m 1ms/step - accuracy: 0.8910 - loss: 0.3463 - val_accuracy: 0.9002 - val_loss: 0.2948\n",
      "Epoch 7/100\n",
      "\u001b[1m2743/2743\u001b[0m \u001b[32m━━━━━━━━━━━━━━━━━━━━\u001b[0m\u001b[37m\u001b[0m \u001b[1m4s\u001b[0m 1ms/step - accuracy: 0.8938 - loss: 0.3368 - val_accuracy: 0.9003 - val_loss: 0.2899\n",
      "Epoch 8/100\n",
      "\u001b[1m2743/2743\u001b[0m \u001b[32m━━━━━━━━━━━━━━━━━━━━\u001b[0m\u001b[37m\u001b[0m \u001b[1m4s\u001b[0m 1ms/step - accuracy: 0.8963 - loss: 0.3267 - val_accuracy: 0.9026 - val_loss: 0.2870\n",
      "Epoch 9/100\n",
      "\u001b[1m2743/2743\u001b[0m \u001b[32m━━━━━━━━━━━━━━━━━━━━\u001b[0m\u001b[37m\u001b[0m \u001b[1m4s\u001b[0m 1ms/step - accuracy: 0.8992 - loss: 0.3168 - val_accuracy: 0.9028 - val_loss: 0.2840\n",
      "Epoch 10/100\n",
      "\u001b[1m2743/2743\u001b[0m \u001b[32m━━━━━━━━━━━━━━━━━━━━\u001b[0m\u001b[37m\u001b[0m \u001b[1m4s\u001b[0m 1ms/step - accuracy: 0.9025 - loss: 0.3090 - val_accuracy: 0.9052 - val_loss: 0.2810\n",
      "Epoch 11/100\n",
      "\u001b[1m2743/2743\u001b[0m \u001b[32m━━━━━━━━━━━━━━━━━━━━\u001b[0m\u001b[37m\u001b[0m \u001b[1m4s\u001b[0m 1ms/step - accuracy: 0.9015 - loss: 0.3095 - val_accuracy: 0.9049 - val_loss: 0.2793\n",
      "Epoch 12/100\n",
      "\u001b[1m2743/2743\u001b[0m \u001b[32m━━━━━━━━━━━━━━━━━━━━\u001b[0m\u001b[37m\u001b[0m \u001b[1m4s\u001b[0m 1ms/step - accuracy: 0.9063 - loss: 0.2955 - val_accuracy: 0.9068 - val_loss: 0.2767\n",
      "Epoch 13/100\n",
      "\u001b[1m2743/2743\u001b[0m \u001b[32m━━━━━━━━━━━━━━━━━━━━\u001b[0m\u001b[37m\u001b[0m \u001b[1m4s\u001b[0m 1ms/step - accuracy: 0.9070 - loss: 0.2914 - val_accuracy: 0.9072 - val_loss: 0.2770\n",
      "Epoch 14/100\n",
      "\u001b[1m2743/2743\u001b[0m \u001b[32m━━━━━━━━━━━━━━━━━━━━\u001b[0m\u001b[37m\u001b[0m \u001b[1m4s\u001b[0m 1ms/step - accuracy: 0.9093 - loss: 0.2868 - val_accuracy: 0.9082 - val_loss: 0.2745\n",
      "Epoch 15/100\n",
      "\u001b[1m2743/2743\u001b[0m \u001b[32m━━━━━━━━━━━━━━━━━━━━\u001b[0m\u001b[37m\u001b[0m \u001b[1m4s\u001b[0m 1ms/step - accuracy: 0.9102 - loss: 0.2814 - val_accuracy: 0.9092 - val_loss: 0.2739\n",
      "Epoch 16/100\n",
      "\u001b[1m2743/2743\u001b[0m \u001b[32m━━━━━━━━━━━━━━━━━━━━\u001b[0m\u001b[37m\u001b[0m \u001b[1m4s\u001b[0m 1ms/step - accuracy: 0.9113 - loss: 0.2771 - val_accuracy: 0.9095 - val_loss: 0.2726\n",
      "Epoch 17/100\n",
      "\u001b[1m2743/2743\u001b[0m \u001b[32m━━━━━━━━━━━━━━━━━━━━\u001b[0m\u001b[37m\u001b[0m \u001b[1m4s\u001b[0m 1ms/step - accuracy: 0.9140 - loss: 0.2700 - val_accuracy: 0.9102 - val_loss: 0.2710\n",
      "Epoch 18/100\n",
      "\u001b[1m2743/2743\u001b[0m \u001b[32m━━━━━━━━━━━━━━━━━━━━\u001b[0m\u001b[37m\u001b[0m \u001b[1m4s\u001b[0m 1ms/step - accuracy: 0.9148 - loss: 0.2675 - val_accuracy: 0.9110 - val_loss: 0.2717\n",
      "Epoch 19/100\n",
      "\u001b[1m2743/2743\u001b[0m \u001b[32m━━━━━━━━━━━━━━━━━━━━\u001b[0m\u001b[37m\u001b[0m \u001b[1m4s\u001b[0m 1ms/step - accuracy: 0.9160 - loss: 0.2652 - val_accuracy: 0.9105 - val_loss: 0.2726\n",
      "Epoch 20/100\n",
      "\u001b[1m2743/2743\u001b[0m \u001b[32m━━━━━━━━━━━━━━━━━━━━\u001b[0m\u001b[37m\u001b[0m \u001b[1m4s\u001b[0m 1ms/step - accuracy: 0.9173 - loss: 0.2605 - val_accuracy: 0.9109 - val_loss: 0.2717\n",
      "Epoch 21/100\n",
      "\u001b[1m2743/2743\u001b[0m \u001b[32m━━━━━━━━━━━━━━━━━━━━\u001b[0m\u001b[37m\u001b[0m \u001b[1m4s\u001b[0m 1ms/step - accuracy: 0.9165 - loss: 0.2598 - val_accuracy: 0.9107 - val_loss: 0.2704\n",
      "Epoch 22/100\n",
      "\u001b[1m2743/2743\u001b[0m \u001b[32m━━━━━━━━━━━━━━━━━━━━\u001b[0m\u001b[37m\u001b[0m \u001b[1m4s\u001b[0m 1ms/step - accuracy: 0.9174 - loss: 0.2572 - val_accuracy: 0.9113 - val_loss: 0.2695\n",
      "Epoch 23/100\n",
      "\u001b[1m2743/2743\u001b[0m \u001b[32m━━━━━━━━━━━━━━━━━━━━\u001b[0m\u001b[37m\u001b[0m \u001b[1m4s\u001b[0m 1ms/step - accuracy: 0.9196 - loss: 0.2521 - val_accuracy: 0.9115 - val_loss: 0.2691\n",
      "Epoch 24/100\n",
      "\u001b[1m2743/2743\u001b[0m \u001b[32m━━━━━━━━━━━━━━━━━━━━\u001b[0m\u001b[37m\u001b[0m \u001b[1m4s\u001b[0m 1ms/step - accuracy: 0.9203 - loss: 0.2496 - val_accuracy: 0.9112 - val_loss: 0.2697\n",
      "Epoch 25/100\n",
      "\u001b[1m2743/2743\u001b[0m \u001b[32m━━━━━━━━━━━━━━━━━━━━\u001b[0m\u001b[37m\u001b[0m \u001b[1m4s\u001b[0m 1ms/step - accuracy: 0.9219 - loss: 0.2443 - val_accuracy: 0.9118 - val_loss: 0.2693\n",
      "Epoch 26/100\n",
      "\u001b[1m2743/2743\u001b[0m \u001b[32m━━━━━━━━━━━━━━━━━━━━\u001b[0m\u001b[37m\u001b[0m \u001b[1m4s\u001b[0m 1ms/step - accuracy: 0.9234 - loss: 0.2386 - val_accuracy: 0.9112 - val_loss: 0.2704\n",
      "Epoch 27/100\n",
      "\u001b[1m2743/2743\u001b[0m \u001b[32m━━━━━━━━━━━━━━━━━━━━\u001b[0m\u001b[37m\u001b[0m \u001b[1m4s\u001b[0m 1ms/step - accuracy: 0.9216 - loss: 0.2435 - val_accuracy: 0.9118 - val_loss: 0.2718\n",
      "Epoch 28/100\n",
      "\u001b[1m2743/2743\u001b[0m \u001b[32m━━━━━━━━━━━━━━━━━━━━\u001b[0m\u001b[37m\u001b[0m \u001b[1m4s\u001b[0m 1ms/step - accuracy: 0.9245 - loss: 0.2357 - val_accuracy: 0.9112 - val_loss: 0.2723\n",
      "Epoch 29/100\n",
      "\u001b[1m2743/2743\u001b[0m \u001b[32m━━━━━━━━━━━━━━━━━━━━\u001b[0m\u001b[37m\u001b[0m \u001b[1m4s\u001b[0m 1ms/step - accuracy: 0.9250 - loss: 0.2357 - val_accuracy: 0.9107 - val_loss: 0.2703\n",
      "Epoch 30/100\n",
      "\u001b[1m2743/2743\u001b[0m \u001b[32m━━━━━━━━━━━━━━━━━━━━\u001b[0m\u001b[37m\u001b[0m \u001b[1m4s\u001b[0m 1ms/step - accuracy: 0.9274 - loss: 0.2285 - val_accuracy: 0.9113 - val_loss: 0.2718\n",
      "Epoch 31/100\n",
      "\u001b[1m2743/2743\u001b[0m \u001b[32m━━━━━━━━━━━━━━━━━━━━\u001b[0m\u001b[37m\u001b[0m \u001b[1m4s\u001b[0m 1ms/step - accuracy: 0.9276 - loss: 0.2278 - val_accuracy: 0.9117 - val_loss: 0.2708\n",
      "Epoch 32/100\n",
      "\u001b[1m2743/2743\u001b[0m \u001b[32m━━━━━━━━━━━━━━━━━━━━\u001b[0m\u001b[37m\u001b[0m \u001b[1m4s\u001b[0m 1ms/step - accuracy: 0.9281 - loss: 0.2271 - val_accuracy: 0.9123 - val_loss: 0.2700\n",
      "Epoch 33/100\n",
      "\u001b[1m2743/2743\u001b[0m \u001b[32m━━━━━━━━━━━━━━━━━━━━\u001b[0m\u001b[37m\u001b[0m \u001b[1m4s\u001b[0m 2ms/step - accuracy: 0.9270 - loss: 0.2249 - val_accuracy: 0.9127 - val_loss: 0.2756\n",
      "Epoch 34/100\n",
      "\u001b[1m2743/2743\u001b[0m \u001b[32m━━━━━━━━━━━━━━━━━━━━\u001b[0m\u001b[37m\u001b[0m \u001b[1m5s\u001b[0m 2ms/step - accuracy: 0.9278 - loss: 0.2236 - val_accuracy: 0.9118 - val_loss: 0.2733\n",
      "Epoch 35/100\n",
      "\u001b[1m2743/2743\u001b[0m \u001b[32m━━━━━━━━━━━━━━━━━━━━\u001b[0m\u001b[37m\u001b[0m \u001b[1m4s\u001b[0m 1ms/step - accuracy: 0.9299 - loss: 0.2180 - val_accuracy: 0.9118 - val_loss: 0.2708\n",
      "Epoch 36/100\n",
      "\u001b[1m2743/2743\u001b[0m \u001b[32m━━━━━━━━━━━━━━━━━━━━\u001b[0m\u001b[37m\u001b[0m \u001b[1m4s\u001b[0m 2ms/step - accuracy: 0.9306 - loss: 0.2178 - val_accuracy: 0.9123 - val_loss: 0.2732\n",
      "Epoch 37/100\n",
      "\u001b[1m2743/2743\u001b[0m \u001b[32m━━━━━━━━━━━━━━━━━━━━\u001b[0m\u001b[37m\u001b[0m \u001b[1m4s\u001b[0m 1ms/step - accuracy: 0.9291 - loss: 0.2204 - val_accuracy: 0.9128 - val_loss: 0.2770\n",
      "Epoch 38/100\n",
      "\u001b[1m2743/2743\u001b[0m \u001b[32m━━━━━━━━━━━━━━━━━━━━\u001b[0m\u001b[37m\u001b[0m \u001b[1m4s\u001b[0m 1ms/step - accuracy: 0.9297 - loss: 0.2178 - val_accuracy: 0.9123 - val_loss: 0.2743\n",
      "Epoch 39/100\n",
      "\u001b[1m2743/2743\u001b[0m \u001b[32m━━━━━━━━━━━━━━━━━━━━\u001b[0m\u001b[37m\u001b[0m \u001b[1m4s\u001b[0m 1ms/step - accuracy: 0.9321 - loss: 0.2109 - val_accuracy: 0.9124 - val_loss: 0.2725\n",
      "Epoch 40/100\n",
      "\u001b[1m2743/2743\u001b[0m \u001b[32m━━━━━━━━━━━━━━━━━━━━\u001b[0m\u001b[37m\u001b[0m \u001b[1m4s\u001b[0m 1ms/step - accuracy: 0.9309 - loss: 0.2135 - val_accuracy: 0.9107 - val_loss: 0.2773\n",
      "Epoch 41/100\n",
      "\u001b[1m2743/2743\u001b[0m \u001b[32m━━━━━━━━━━━━━━━━━━━━\u001b[0m\u001b[37m\u001b[0m \u001b[1m4s\u001b[0m 1ms/step - accuracy: 0.9320 - loss: 0.2141 - val_accuracy: 0.9121 - val_loss: 0.2765\n",
      "Epoch 42/100\n",
      "\u001b[1m2743/2743\u001b[0m \u001b[32m━━━━━━━━━━━━━━━━━━━━\u001b[0m\u001b[37m\u001b[0m \u001b[1m4s\u001b[0m 1ms/step - accuracy: 0.9330 - loss: 0.2076 - val_accuracy: 0.9128 - val_loss: 0.2762\n",
      "Epoch 43/100\n",
      "\u001b[1m2743/2743\u001b[0m \u001b[32m━━━━━━━━━━━━━━━━━━━━\u001b[0m\u001b[37m\u001b[0m \u001b[1m4s\u001b[0m 1ms/step - accuracy: 0.9322 - loss: 0.2098 - val_accuracy: 0.9121 - val_loss: 0.2786\n",
      "Epoch 44/100\n",
      "\u001b[1m2743/2743\u001b[0m \u001b[32m━━━━━━━━━━━━━━━━━━━━\u001b[0m\u001b[37m\u001b[0m \u001b[1m4s\u001b[0m 1ms/step - accuracy: 0.9349 - loss: 0.2022 - val_accuracy: 0.9126 - val_loss: 0.2760\n",
      "Epoch 45/100\n",
      "\u001b[1m2743/2743\u001b[0m \u001b[32m━━━━━━━━━━━━━━━━━━━━\u001b[0m\u001b[37m\u001b[0m \u001b[1m4s\u001b[0m 1ms/step - accuracy: 0.9347 - loss: 0.2046 - val_accuracy: 0.9122 - val_loss: 0.2789\n",
      "Epoch 46/100\n",
      "\u001b[1m2743/2743\u001b[0m \u001b[32m━━━━━━━━━━━━━━━━━━━━\u001b[0m\u001b[37m\u001b[0m \u001b[1m4s\u001b[0m 1ms/step - accuracy: 0.9344 - loss: 0.2002 - val_accuracy: 0.9130 - val_loss: 0.2800\n",
      "Epoch 47/100\n",
      "\u001b[1m2743/2743\u001b[0m \u001b[32m━━━━━━━━━━━━━━━━━━━━\u001b[0m\u001b[37m\u001b[0m \u001b[1m4s\u001b[0m 1ms/step - accuracy: 0.9365 - loss: 0.1970 - val_accuracy: 0.9125 - val_loss: 0.2773\n",
      "Epoch 48/100\n",
      "\u001b[1m2743/2743\u001b[0m \u001b[32m━━━━━━━━━━━━━━━━━━━━\u001b[0m\u001b[37m\u001b[0m \u001b[1m4s\u001b[0m 1ms/step - accuracy: 0.9376 - loss: 0.1962 - val_accuracy: 0.9121 - val_loss: 0.2778\n",
      "Epoch 49/100\n",
      "\u001b[1m2743/2743\u001b[0m \u001b[32m━━━━━━━━━━━━━━━━━━━━\u001b[0m\u001b[37m\u001b[0m \u001b[1m4s\u001b[0m 1ms/step - accuracy: 0.9361 - loss: 0.1971 - val_accuracy: 0.9117 - val_loss: 0.2788\n",
      "Epoch 50/100\n",
      "\u001b[1m2743/2743\u001b[0m \u001b[32m━━━━━━━━━━━━━━━━━━━━\u001b[0m\u001b[37m\u001b[0m \u001b[1m4s\u001b[0m 1ms/step - accuracy: 0.9362 - loss: 0.1914 - val_accuracy: 0.9120 - val_loss: 0.2771\n",
      "Epoch 51/100\n",
      "\u001b[1m2743/2743\u001b[0m \u001b[32m━━━━━━━━━━━━━━━━━━━━\u001b[0m\u001b[37m\u001b[0m \u001b[1m4s\u001b[0m 1ms/step - accuracy: 0.9362 - loss: 0.1944 - val_accuracy: 0.9120 - val_loss: 0.2802\n",
      "Epoch 52/100\n",
      "\u001b[1m2743/2743\u001b[0m \u001b[32m━━━━━━━━━━━━━━━━━━━━\u001b[0m\u001b[37m\u001b[0m \u001b[1m4s\u001b[0m 2ms/step - accuracy: 0.9373 - loss: 0.1933 - val_accuracy: 0.9128 - val_loss: 0.2809\n",
      "Epoch 53/100\n",
      "\u001b[1m2743/2743\u001b[0m \u001b[32m━━━━━━━━━━━━━━━━━━━━\u001b[0m\u001b[37m\u001b[0m \u001b[1m4s\u001b[0m 1ms/step - accuracy: 0.9375 - loss: 0.1909 - val_accuracy: 0.9128 - val_loss: 0.2817\n",
      "Epoch 54/100\n",
      "\u001b[1m2743/2743\u001b[0m \u001b[32m━━━━━━━━━━━━━━━━━━━━\u001b[0m\u001b[37m\u001b[0m \u001b[1m4s\u001b[0m 1ms/step - accuracy: 0.9379 - loss: 0.1919 - val_accuracy: 0.9122 - val_loss: 0.2820\n",
      "Epoch 55/100\n",
      "\u001b[1m2743/2743\u001b[0m \u001b[32m━━━━━━━━━━━━━━━━━━━━\u001b[0m\u001b[37m\u001b[0m \u001b[1m4s\u001b[0m 1ms/step - accuracy: 0.9381 - loss: 0.1892 - val_accuracy: 0.9123 - val_loss: 0.2856\n",
      "Epoch 56/100\n",
      "\u001b[1m2743/2743\u001b[0m \u001b[32m━━━━━━━━━━━━━━━━━━━━\u001b[0m\u001b[37m\u001b[0m \u001b[1m4s\u001b[0m 1ms/step - accuracy: 0.9386 - loss: 0.1890 - val_accuracy: 0.9131 - val_loss: 0.2825\n",
      "Epoch 57/100\n",
      "\u001b[1m2743/2743\u001b[0m \u001b[32m━━━━━━━━━━━━━━━━━━━━\u001b[0m\u001b[37m\u001b[0m \u001b[1m4s\u001b[0m 1ms/step - accuracy: 0.9392 - loss: 0.1835 - val_accuracy: 0.9127 - val_loss: 0.2835\n",
      "Epoch 58/100\n",
      "\u001b[1m2743/2743\u001b[0m \u001b[32m━━━━━━━━━━━━━━━━━━━━\u001b[0m\u001b[37m\u001b[0m \u001b[1m5s\u001b[0m 2ms/step - accuracy: 0.9389 - loss: 0.1852 - val_accuracy: 0.9126 - val_loss: 0.2836\n",
      "Epoch 59/100\n",
      "\u001b[1m2743/2743\u001b[0m \u001b[32m━━━━━━━━━━━━━━━━━━━━\u001b[0m\u001b[37m\u001b[0m \u001b[1m4s\u001b[0m 2ms/step - accuracy: 0.9409 - loss: 0.1796 - val_accuracy: 0.9127 - val_loss: 0.2854\n",
      "Epoch 60/100\n",
      "\u001b[1m2743/2743\u001b[0m \u001b[32m━━━━━━━━━━━━━━━━━━━━\u001b[0m\u001b[37m\u001b[0m \u001b[1m4s\u001b[0m 2ms/step - accuracy: 0.9401 - loss: 0.1829 - val_accuracy: 0.9116 - val_loss: 0.2916\n",
      "Epoch 61/100\n",
      "\u001b[1m2743/2743\u001b[0m \u001b[32m━━━━━━━━━━━━━━━━━━━━\u001b[0m\u001b[37m\u001b[0m \u001b[1m4s\u001b[0m 2ms/step - accuracy: 0.9392 - loss: 0.1851 - val_accuracy: 0.9126 - val_loss: 0.2875\n",
      "Epoch 62/100\n",
      "\u001b[1m2743/2743\u001b[0m \u001b[32m━━━━━━━━━━━━━━━━━━━━\u001b[0m\u001b[37m\u001b[0m \u001b[1m5s\u001b[0m 2ms/step - accuracy: 0.9399 - loss: 0.1824 - val_accuracy: 0.9114 - val_loss: 0.2913\n",
      "Epoch 63/100\n",
      "\u001b[1m2743/2743\u001b[0m \u001b[32m━━━━━━━━━━━━━━━━━━━━\u001b[0m\u001b[37m\u001b[0m \u001b[1m4s\u001b[0m 2ms/step - accuracy: 0.9411 - loss: 0.1808 - val_accuracy: 0.9116 - val_loss: 0.2890\n",
      "Epoch 64/100\n",
      "\u001b[1m2743/2743\u001b[0m \u001b[32m━━━━━━━━━━━━━━━━━━━━\u001b[0m\u001b[37m\u001b[0m \u001b[1m4s\u001b[0m 2ms/step - accuracy: 0.9422 - loss: 0.1800 - val_accuracy: 0.9123 - val_loss: 0.2905\n",
      "Epoch 65/100\n",
      "\u001b[1m2743/2743\u001b[0m \u001b[32m━━━━━━━━━━━━━━━━━━━━\u001b[0m\u001b[37m\u001b[0m \u001b[1m5s\u001b[0m 2ms/step - accuracy: 0.9415 - loss: 0.1792 - val_accuracy: 0.9120 - val_loss: 0.2873\n",
      "Epoch 66/100\n",
      "\u001b[1m2743/2743\u001b[0m \u001b[32m━━━━━━━━━━━━━━━━━━━━\u001b[0m\u001b[37m\u001b[0m \u001b[1m4s\u001b[0m 1ms/step - accuracy: 0.9415 - loss: 0.1768 - val_accuracy: 0.9117 - val_loss: 0.2910\n",
      "Epoch 67/100\n",
      "\u001b[1m2743/2743\u001b[0m \u001b[32m━━━━━━━━━━━━━━━━━━━━\u001b[0m\u001b[37m\u001b[0m \u001b[1m4s\u001b[0m 1ms/step - accuracy: 0.9403 - loss: 0.1808 - val_accuracy: 0.9121 - val_loss: 0.2894\n",
      "Epoch 68/100\n",
      "\u001b[1m2743/2743\u001b[0m \u001b[32m━━━━━━━━━━━━━━━━━━━━\u001b[0m\u001b[37m\u001b[0m \u001b[1m4s\u001b[0m 1ms/step - accuracy: 0.9433 - loss: 0.1707 - val_accuracy: 0.9120 - val_loss: 0.2898\n",
      "Epoch 69/100\n",
      "\u001b[1m2743/2743\u001b[0m \u001b[32m━━━━━━━━━━━━━━━━━━━━\u001b[0m\u001b[37m\u001b[0m \u001b[1m4s\u001b[0m 1ms/step - accuracy: 0.9436 - loss: 0.1693 - val_accuracy: 0.9118 - val_loss: 0.2955\n",
      "Epoch 70/100\n",
      "\u001b[1m2743/2743\u001b[0m \u001b[32m━━━━━━━━━━━━━━━━━━━━\u001b[0m\u001b[37m\u001b[0m \u001b[1m4s\u001b[0m 1ms/step - accuracy: 0.9428 - loss: 0.1705 - val_accuracy: 0.9124 - val_loss: 0.2934\n",
      "Epoch 71/100\n",
      "\u001b[1m2743/2743\u001b[0m \u001b[32m━━━━━━━━━━━━━━━━━━━━\u001b[0m\u001b[37m\u001b[0m \u001b[1m4s\u001b[0m 1ms/step - accuracy: 0.9419 - loss: 0.1721 - val_accuracy: 0.9123 - val_loss: 0.2941\n",
      "Epoch 72/100\n",
      "\u001b[1m2743/2743\u001b[0m \u001b[32m━━━━━━━━━━━━━━━━━━━━\u001b[0m\u001b[37m\u001b[0m \u001b[1m4s\u001b[0m 1ms/step - accuracy: 0.9433 - loss: 0.1691 - val_accuracy: 0.9120 - val_loss: 0.2942\n",
      "Epoch 73/100\n",
      "\u001b[1m2743/2743\u001b[0m \u001b[32m━━━━━━━━━━━━━━━━━━━━\u001b[0m\u001b[37m\u001b[0m \u001b[1m4s\u001b[0m 1ms/step - accuracy: 0.9433 - loss: 0.1718 - val_accuracy: 0.9117 - val_loss: 0.2977\n",
      "Epoch 74/100\n",
      "\u001b[1m2743/2743\u001b[0m \u001b[32m━━━━━━━━━━━━━━━━━━━━\u001b[0m\u001b[37m\u001b[0m \u001b[1m4s\u001b[0m 1ms/step - accuracy: 0.9429 - loss: 0.1707 - val_accuracy: 0.9116 - val_loss: 0.2979\n",
      "Epoch 75/100\n",
      "\u001b[1m2743/2743\u001b[0m \u001b[32m━━━━━━━━━━━━━━━━━━━━\u001b[0m\u001b[37m\u001b[0m \u001b[1m4s\u001b[0m 1ms/step - accuracy: 0.9427 - loss: 0.1714 - val_accuracy: 0.9120 - val_loss: 0.2958\n",
      "Epoch 76/100\n",
      "\u001b[1m2743/2743\u001b[0m \u001b[32m━━━━━━━━━━━━━━━━━━━━\u001b[0m\u001b[37m\u001b[0m \u001b[1m5s\u001b[0m 2ms/step - accuracy: 0.9444 - loss: 0.1675 - val_accuracy: 0.9129 - val_loss: 0.2962\n",
      "Epoch 77/100\n",
      "\u001b[1m2743/2743\u001b[0m \u001b[32m━━━━━━━━━━━━━━━━━━━━\u001b[0m\u001b[37m\u001b[0m \u001b[1m4s\u001b[0m 2ms/step - accuracy: 0.9450 - loss: 0.1643 - val_accuracy: 0.9120 - val_loss: 0.2929\n",
      "Epoch 78/100\n",
      "\u001b[1m2743/2743\u001b[0m \u001b[32m━━━━━━━━━━━━━━━━━━━━\u001b[0m\u001b[37m\u001b[0m \u001b[1m4s\u001b[0m 1ms/step - accuracy: 0.9459 - loss: 0.1637 - val_accuracy: 0.9118 - val_loss: 0.2950\n",
      "Epoch 79/100\n",
      "\u001b[1m2743/2743\u001b[0m \u001b[32m━━━━━━━━━━━━━━━━━━━━\u001b[0m\u001b[37m\u001b[0m \u001b[1m5s\u001b[0m 2ms/step - accuracy: 0.9445 - loss: 0.1693 - val_accuracy: 0.9117 - val_loss: 0.3022\n",
      "Epoch 80/100\n",
      "\u001b[1m2743/2743\u001b[0m \u001b[32m━━━━━━━━━━━━━━━━━━━━\u001b[0m\u001b[37m\u001b[0m \u001b[1m7s\u001b[0m 2ms/step - accuracy: 0.9441 - loss: 0.1693 - val_accuracy: 0.9125 - val_loss: 0.3020\n",
      "Epoch 81/100\n",
      "\u001b[1m2743/2743\u001b[0m \u001b[32m━━━━━━━━━━━━━━━━━━━━\u001b[0m\u001b[37m\u001b[0m \u001b[1m4s\u001b[0m 2ms/step - accuracy: 0.9447 - loss: 0.1681 - val_accuracy: 0.9124 - val_loss: 0.3003\n",
      "Epoch 82/100\n",
      "\u001b[1m2743/2743\u001b[0m \u001b[32m━━━━━━━━━━━━━━━━━━━━\u001b[0m\u001b[37m\u001b[0m \u001b[1m4s\u001b[0m 2ms/step - accuracy: 0.9458 - loss: 0.1621 - val_accuracy: 0.9118 - val_loss: 0.3025\n",
      "Epoch 83/100\n",
      "\u001b[1m2743/2743\u001b[0m \u001b[32m━━━━━━━━━━━━━━━━━━━━\u001b[0m\u001b[37m\u001b[0m \u001b[1m4s\u001b[0m 2ms/step - accuracy: 0.9451 - loss: 0.1616 - val_accuracy: 0.9123 - val_loss: 0.3005\n",
      "Epoch 84/100\n",
      "\u001b[1m2743/2743\u001b[0m \u001b[32m━━━━━━━━━━━━━━━━━━━━\u001b[0m\u001b[37m\u001b[0m \u001b[1m4s\u001b[0m 1ms/step - accuracy: 0.9455 - loss: 0.1606 - val_accuracy: 0.9133 - val_loss: 0.3030\n",
      "Epoch 85/100\n",
      "\u001b[1m2743/2743\u001b[0m \u001b[32m━━━━━━━━━━━━━━━━━━━━\u001b[0m\u001b[37m\u001b[0m \u001b[1m4s\u001b[0m 1ms/step - accuracy: 0.9462 - loss: 0.1598 - val_accuracy: 0.9119 - val_loss: 0.3044\n",
      "Epoch 86/100\n",
      "\u001b[1m2743/2743\u001b[0m \u001b[32m━━━━━━━━━━━━━━━━━━━━\u001b[0m\u001b[37m\u001b[0m \u001b[1m4s\u001b[0m 2ms/step - accuracy: 0.9465 - loss: 0.1583 - val_accuracy: 0.9133 - val_loss: 0.3052\n",
      "Epoch 87/100\n",
      "\u001b[1m2743/2743\u001b[0m \u001b[32m━━━━━━━━━━━━━━━━━━━━\u001b[0m\u001b[37m\u001b[0m \u001b[1m4s\u001b[0m 1ms/step - accuracy: 0.9473 - loss: 0.1572 - val_accuracy: 0.9129 - val_loss: 0.3020\n",
      "Epoch 88/100\n",
      "\u001b[1m2743/2743\u001b[0m \u001b[32m━━━━━━━━━━━━━━━━━━━━\u001b[0m\u001b[37m\u001b[0m \u001b[1m4s\u001b[0m 2ms/step - accuracy: 0.9471 - loss: 0.1563 - val_accuracy: 0.9136 - val_loss: 0.3018\n",
      "Epoch 89/100\n",
      "\u001b[1m2743/2743\u001b[0m \u001b[32m━━━━━━━━━━━━━━━━━━━━\u001b[0m\u001b[37m\u001b[0m \u001b[1m4s\u001b[0m 2ms/step - accuracy: 0.9477 - loss: 0.1592 - val_accuracy: 0.9125 - val_loss: 0.3069\n",
      "Epoch 90/100\n",
      "\u001b[1m2743/2743\u001b[0m \u001b[32m━━━━━━━━━━━━━━━━━━━━\u001b[0m\u001b[37m\u001b[0m \u001b[1m4s\u001b[0m 1ms/step - accuracy: 0.9467 - loss: 0.1573 - val_accuracy: 0.9119 - val_loss: 0.3071\n",
      "Epoch 91/100\n",
      "\u001b[1m2743/2743\u001b[0m \u001b[32m━━━━━━━━━━━━━━━━━━━━\u001b[0m\u001b[37m\u001b[0m \u001b[1m4s\u001b[0m 1ms/step - accuracy: 0.9458 - loss: 0.1619 - val_accuracy: 0.9120 - val_loss: 0.3064\n",
      "Epoch 92/100\n",
      "\u001b[1m2743/2743\u001b[0m \u001b[32m━━━━━━━━━━━━━━━━━━━━\u001b[0m\u001b[37m\u001b[0m \u001b[1m4s\u001b[0m 1ms/step - accuracy: 0.9476 - loss: 0.1583 - val_accuracy: 0.9124 - val_loss: 0.3068\n",
      "Epoch 93/100\n",
      "\u001b[1m2743/2743\u001b[0m \u001b[32m━━━━━━━━━━━━━━━━━━━━\u001b[0m\u001b[37m\u001b[0m \u001b[1m4s\u001b[0m 1ms/step - accuracy: 0.9464 - loss: 0.1578 - val_accuracy: 0.9118 - val_loss: 0.3152\n",
      "Epoch 94/100\n",
      "\u001b[1m2743/2743\u001b[0m \u001b[32m━━━━━━━━━━━━━━━━━━━━\u001b[0m\u001b[37m\u001b[0m \u001b[1m5s\u001b[0m 2ms/step - accuracy: 0.9484 - loss: 0.1534 - val_accuracy: 0.9133 - val_loss: 0.3078\n",
      "Epoch 95/100\n",
      "\u001b[1m2743/2743\u001b[0m \u001b[32m━━━━━━━━━━━━━━━━━━━━\u001b[0m\u001b[37m\u001b[0m \u001b[1m5s\u001b[0m 2ms/step - accuracy: 0.9493 - loss: 0.1514 - val_accuracy: 0.9119 - val_loss: 0.3127\n",
      "Epoch 96/100\n",
      "\u001b[1m2743/2743\u001b[0m \u001b[32m━━━━━━━━━━━━━━━━━━━━\u001b[0m\u001b[37m\u001b[0m \u001b[1m5s\u001b[0m 2ms/step - accuracy: 0.9493 - loss: 0.1492 - val_accuracy: 0.9118 - val_loss: 0.3169\n",
      "Epoch 97/100\n",
      "\u001b[1m2743/2743\u001b[0m \u001b[32m━━━━━━━━━━━━━━━━━━━━\u001b[0m\u001b[37m\u001b[0m \u001b[1m4s\u001b[0m 2ms/step - accuracy: 0.9466 - loss: 0.1547 - val_accuracy: 0.9122 - val_loss: 0.3141\n",
      "Epoch 98/100\n",
      "\u001b[1m2743/2743\u001b[0m \u001b[32m━━━━━━━━━━━━━━━━━━━━\u001b[0m\u001b[37m\u001b[0m \u001b[1m4s\u001b[0m 1ms/step - accuracy: 0.9493 - loss: 0.1492 - val_accuracy: 0.9124 - val_loss: 0.3122\n",
      "Epoch 99/100\n",
      "\u001b[1m2743/2743\u001b[0m \u001b[32m━━━━━━━━━━━━━━━━━━━━\u001b[0m\u001b[37m\u001b[0m \u001b[1m4s\u001b[0m 2ms/step - accuracy: 0.9491 - loss: 0.1519 - val_accuracy: 0.9125 - val_loss: 0.3097\n",
      "Epoch 100/100\n",
      "\u001b[1m2743/2743\u001b[0m \u001b[32m━━━━━━━━━━━━━━━━━━━━\u001b[0m\u001b[37m\u001b[0m \u001b[1m4s\u001b[0m 2ms/step - accuracy: 0.9496 - loss: 0.1500 - val_accuracy: 0.9129 - val_loss: 0.3102\n"
     ]
    }
   ],
   "source": [
    "history = model.fit(X_train, y_train, epochs=100, batch_size=35, validation_data=(X_val, y_val))"
   ]
  },
  {
   "cell_type": "code",
   "execution_count": 184,
   "id": "33b44afc",
   "metadata": {},
   "outputs": [
    {
     "name": "stdout",
     "output_type": "stream",
     "text": [
      "\u001b[1m750/750\u001b[0m \u001b[32m━━━━━━━━━━━━━━━━━━━━\u001b[0m\u001b[37m\u001b[0m \u001b[1m0s\u001b[0m 339us/step\n"
     ]
    }
   ],
   "source": [
    "y_val_predict_probs = model.predict(X_val)"
   ]
  },
  {
   "cell_type": "code",
   "execution_count": 185,
   "id": "9eab6dea",
   "metadata": {},
   "outputs": [],
   "source": [
    "y_val_predict = np.argmax(y_val_predict_probs, axis=1)"
   ]
  },
  {
   "cell_type": "code",
   "execution_count": 186,
   "id": "7d556479",
   "metadata": {},
   "outputs": [
    {
     "name": "stdout",
     "output_type": "stream",
     "text": [
      "val accuracy 0.912875\n"
     ]
    }
   ],
   "source": [
    "print('val accuracy', sum(y_val_predict == y_val) / len(y_val))"
   ]
  },
  {
   "cell_type": "code",
   "execution_count": 189,
   "id": "fbd34675",
   "metadata": {},
   "outputs": [],
   "source": [
    "val_accuracy = history.history['val_accuracy']\n",
    "train_accuracy = history.history['accuracy']"
   ]
  },
  {
   "cell_type": "code",
   "execution_count": 190,
   "id": "8eedfff6",
   "metadata": {},
   "outputs": [
    {
     "data": {
      "text/plain": [
       "[<matplotlib.lines.Line2D at 0x417921100>]"
      ]
     },
     "execution_count": 190,
     "metadata": {},
     "output_type": "execute_result"
    },
    {
     "data": {
      "image/png": "[encoded data removed]",
      "text/plain": [
       "<Figure size 640x480 with 1 Axes>"
      ]
     },
     "metadata": {},
     "output_type": "display_data"
    }
   ],
   "source": [
    "import  matplotlib.pyplot as plt\n",
    "plt.plot(val_accuracy)\n",
    "plt.plot(train_accuracy)"
   ]
  },
  {
   "cell_type": "code",
   "execution_count": null,
   "id": "45eb51b3",
   "metadata": {},
   "outputs": [],
   "source": []
  }
 ],
 "metadata": {
  "kernelspec": {
   "display_name": "Python 3 (ipykernel)",
   "language": "python",
   "name": "python3"
  },
  "language_info": {
   "codemirror_mode": {
    "name": "ipython",
    "version": 3
   },
   "file_extension": ".py",
   "mimetype": "text/x-python",
   "name": "python",
   "nbconvert_exporter": "python",
   "pygments_lexer": "ipython3",
   "version": "3.12.1"
  }
 },
 "nbformat": 4,
 "nbformat_minor": 5
}
